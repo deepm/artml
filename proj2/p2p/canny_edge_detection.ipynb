{
 "cells": [
  {
   "cell_type": "code",
   "execution_count": 15,
   "metadata": {},
   "outputs": [],
   "source": [
    "import cv2\n",
    "import os\n",
    "import glob\n",
    "import numpy as np\n",
    "#from matplotlib import pyplot as plt\n",
    "from scipy.misc import imsave\n",
    "\n",
    "sourcePath = './datasets/customizedImg/sourceImg/'\n",
    "edgePath = './datasets/customizedImg/edgeImg/'\n",
    "combinePath = './datasets/customizedImg/combinedImg/'\n",
    "\n",
    "\n",
    "training_img_lst = [os.path.basename(f) for f in glob.glob(sourcePath + '*.jpg')]\n",
    "\n",
    "for image in training_img_lst:\n",
    "    img = cv2.imread(sourcePath + image,cv2.IMREAD_COLOR)\n",
    "    edgeImg = cv2.bitwise_not(cv2.Canny(img, 100, 200))\n",
    "    convertedImg = cv2.cvtColor(edgeImg, cv2.COLOR_GRAY2RGB)\n",
    "    \n",
    "    \n",
    "    cv2.imwrite(edgePath+image, edgeImg)\n",
    "    #print(img.shape, edgeImg.shape, convertedImg.shape)\n",
    "    \n",
    "    combinedImg = np.concatenate([img,convertedImg],1)\n",
    "    \n",
    "    #plt.subplot(131),plt.imshow(img,cmap = 'gray')\n",
    "    #plt.title('Original Image'), plt.xticks([]), plt.yticks([])\n",
    "    \n",
    "    #plt.subplot(132),plt.imshow(convertedImg,cmap = 'gray')\n",
    "    #plt.title('Edge Image'), plt.xticks([]), plt.yticks([])\n",
    "  \n",
    "    #plt.subplot(133),plt.imshow(combinedImg,cmap = 'gray')\n",
    "    #plt.title('Combined Image'), plt.xticks([]), plt.yticks([])\n",
    "    \n",
    "    cv2.imwrite(combinePath+image, combinedImg)"
   ]
  },
  {
   "cell_type": "code",
   "execution_count": null,
   "metadata": {},
   "outputs": [],
   "source": []
  }
 ],
 "metadata": {
  "kernelspec": {
   "display_name": "Environment (conda_tensorflow_p27)",
   "language": "python",
   "name": "conda_tensorflow_p27"
  },
  "language_info": {
   "codemirror_mode": {
    "name": "ipython",
    "version": 2
   },
   "file_extension": ".py",
   "mimetype": "text/x-python",
   "name": "python",
   "nbconvert_exporter": "python",
   "pygments_lexer": "ipython2",
   "version": "2.7.14"
  }
 },
 "nbformat": 4,
 "nbformat_minor": 2
}
