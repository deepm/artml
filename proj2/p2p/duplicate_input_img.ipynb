{
 "cells": [
  {
   "cell_type": "code",
   "execution_count": 13,
   "metadata": {},
   "outputs": [],
   "source": [
    "from PIL import Image\n",
    "import glob\n",
    "import os\n",
    "import numpy as np\n",
    "\n",
    "sourcePath = './datasets/customizedImg/test/outlines/'\n",
    "testPath = './datasets/customizedImg/test/'\n",
    "\n",
    "test_img = glob.glob(sourcePath + '*.jpg')\n",
    "\n",
    "for f in test_img:\n",
    "    \n",
    "    img = Image.open(f)\n",
    "   \n",
    "    width,height= img.size\n",
    "    totalWidth = 2 * width\n",
    "    \n",
    "    background = Image.new(\"RGB\", (totalWidth, height), (255,255,255))\n",
    "   \n",
    "    \n",
    "    background.paste(img, (0,0))\n",
    "    background.paste(img, (width,0))\n",
    "    \n",
    "    fName = os.path.basename(f)\n",
    "\n",
    "    background.save(testPath+fName[:-3]+'jpg', quality=95)\n",
    "   \n",
    "   \n",
    "\n"
   ]
  },
  {
   "cell_type": "code",
   "execution_count": null,
   "metadata": {},
   "outputs": [],
   "source": []
  },
  {
   "cell_type": "code",
   "execution_count": null,
   "metadata": {},
   "outputs": [],
   "source": []
  }
 ],
 "metadata": {
  "kernelspec": {
   "display_name": "Environment (conda_tensorflow_p27)",
   "language": "python",
   "name": "conda_tensorflow_p27"
  },
  "language_info": {
   "codemirror_mode": {
    "name": "ipython",
    "version": 2
   },
   "file_extension": ".py",
   "mimetype": "text/x-python",
   "name": "python",
   "nbconvert_exporter": "python",
   "pygments_lexer": "ipython2",
   "version": "2.7.14"
  }
 },
 "nbformat": 4,
 "nbformat_minor": 2
}
